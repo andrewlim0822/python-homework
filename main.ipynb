{
 "cells": [
  {
   "cell_type": "code",
   "execution_count": 50,
   "metadata": {},
   "outputs": [],
   "source": [
    "import pandas as pd\n",
    "from pathlib import Path"
   ]
  },
  {
   "cell_type": "code",
   "execution_count": 51,
   "metadata": {},
   "outputs": [],
   "source": [
    "csvpath = Path(\"C:/Users/Andrew/utor-tor-fin-pt-05-2021-u-c/02-Python/Unit-2-Homework/PyBank/Resources/budget_data.csv\")"
   ]
  },
  {
   "cell_type": "code",
   "execution_count": 52,
   "metadata": {},
   "outputs": [],
   "source": [
    "budget_df = pd.read_csv(csvpath)"
   ]
  },
  {
   "cell_type": "code",
   "execution_count": 53,
   "metadata": {},
   "outputs": [],
   "source": [
    "total_months=0\n",
    "total_net_profit_losses=0\n",
    "\n",
    "previous_net_profit_losses=0\n",
    "net_profit_losses_change=0\n",
    "\n",
    "greatest_increase=[\"\",0]\n",
    "greatest_decrease=[\"\",0]\n",
    "\n",
    "net_profit_losses_changes=[]\n"
   ]
  },
  {
   "cell_type": "code",
   "execution_count": 54,
   "metadata": {},
   "outputs": [
    {
     "name": "stdout",
     "output_type": "stream",
     "text": [
      "Financial Analysis\n",
      "----------------------------\n",
      "Total Months: 86\n",
      "Net Total Amount of Profit/Losses: $38382578\n",
      "Average Change: $446309.05\n",
      "Greatest Increase in Profits: Feb-2012 ($1926159)\n",
      "Greatest Decrease in Profits:  ($0)\n"
     ]
    }
   ],
   "source": [
    "with open(csvpath) as budget_data:\n",
    "    reader=csv.DictReader(budget_data)\n",
    "    \n",
    "    for row in reader:\n",
    "        total_months=total_months + 1\n",
    "        total_net_profit_losses=total_net_profit_losses + int(row[\"Profit/Losses\"])\n",
    "        # print(row)\n",
    "        \n",
    "        net_profit_losses_change = int(row[\"Profit/Losses\"]) - previous_net_profit_losses\n",
    "        # print(net_profit_losses_change)\n",
    "        \n",
    "        previous_net_profit_losses = int(row[\"Profit/Losses\"])\n",
    "        # print(previous_net_profit_losses)\n",
    "        \n",
    "        # Greatest increase in profits (date and amount) over the entire period\n",
    "        if (net_profit_losses_change > greatest_increase[1]):\n",
    "            greatest_increase[1] = net_profit_losses_change\n",
    "            greatest_increase[0] = row[\"Date\"]\n",
    "            \n",
    "        net_profit_losses_changes.append(int(row[\"Profit/Losses\"]))\n",
    "        \n",
    "    net_profit_losses_average = sum(net_profit_losses_changes) / len(net_profit_losses_changes)\n",
    "    \n",
    "    \n",
    "    \n",
    "    print(\"Financial Analysis\")\n",
    "    print(\"----------------------------\")\n",
    "    print(\"Total Months: \" + str(total_months))\n",
    "    print(\"Net Total Amount of Profit/Losses: \" + \"$\" + str(total_net_profit_losses))\n",
    "    print(\"Average Change: \" + \"$\" + str(round(sum(net_profit_losses_changes) / len(net_profit_losses_changes),2)))\n",
    "    print(\"Greatest Increase in Profits: \" + str(greatest_increase[0]) + \" ($\" + str(greatest_increase[1]) + \")\")\n",
    "    print(\"Greatest Decrease in Profits: \" + str(greatest_decrease[0]) + \" ($\" + str(greatest_decrease[1]) + \")\")\n",
    "    \n",
    "    "
   ]
  },
  {
   "cell_type": "code",
   "execution_count": 59,
   "metadata": {},
   "outputs": [],
   "source": [
    "file_to_output = \"C:/Users/Andrew/python-homework/PyBank/analysis.txt\"\n"
   ]
  },
  {
   "cell_type": "code",
   "execution_count": 62,
   "metadata": {},
   "outputs": [],
   "source": [
    "with open(file_to_output, \"w\") as txt_file:\n",
    "    txt_file.write(\"Total Months: \" + str(total_months))\n",
    "    txt_file.write(\"\\n\")\n",
    "    txt_file.write(\"Net Total Amount of Profit/Losses: \" + \"$\" + str(total_net_profit_losses))\n",
    "    txt_file.write(\"\\n\")\n",
    "    txt_file.write(\"Average Change: \" + \"$\" + str(round(sum(net_profit_losses_changes) / len(net_profit_losses_changes),2)))\n",
    "    txt_file.write(\"\\n\")\n",
    "    txt_file.write(\"Greatest Increase in Profits: \" + str(greatest_increase[0]) + \" ($\" + str(greatest_increase[1]) + \")\") \n",
    "    txt_file.write(\"\\n\")\n",
    "    txt_file.write(\"Greatest Decrease in Profits: \" + str(greatest_decrease[0]) + \" ($\" + str(greatest_decrease[1]) + \")\")"
   ]
  },
  {
   "cell_type": "code",
   "execution_count": null,
   "metadata": {},
   "outputs": [],
   "source": []
  }
 ],
 "metadata": {
  "kernelspec": {
   "display_name": "Python 3",
   "language": "python",
   "name": "python3"
  },
  "language_info": {
   "codemirror_mode": {
    "name": "ipython",
    "version": 3
   },
   "file_extension": ".py",
   "mimetype": "text/x-python",
   "name": "python",
   "nbconvert_exporter": "python",
   "pygments_lexer": "ipython3",
   "version": "3.8.5"
  }
 },
 "nbformat": 4,
 "nbformat_minor": 4
}
